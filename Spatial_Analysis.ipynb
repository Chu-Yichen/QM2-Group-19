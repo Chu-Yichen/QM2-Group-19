{
  "nbformat": 4,
  "nbformat_minor": 0,
  "metadata": {
    "colab": {
      "provenance": [],
      "authorship_tag": "ABX9TyNMJzr4CaHJUP4/1Ll8XmnE",
      "include_colab_link": true
    },
    "kernelspec": {
      "name": "python3",
      "display_name": "Python 3"
    },
    "language_info": {
      "name": "python"
    }
  },
  "cells": [
    {
      "cell_type": "markdown",
      "metadata": {
        "id": "view-in-github",
        "colab_type": "text"
      },
      "source": [
        "<a href=\"https://colab.research.google.com/github/Chu-Yichen/QM2-Group-19/blob/main/Spatial_Analysis.ipynb\" target=\"_parent\"><img src=\"https://colab.research.google.com/assets/colab-badge.svg\" alt=\"Open In Colab\"/></a>"
      ]
    },
    {
      "cell_type": "markdown",
      "source": [
        "# **Spatial Analysis**"
      ],
      "metadata": {
        "id": "NZ17dRt0ODnT"
      }
    },
    {
      "cell_type": "code",
      "execution_count": null,
      "metadata": {
        "id": "GUICo7mNOCm7"
      },
      "outputs": [],
      "source": [
        "def spatial_analysis(df_siteyear, pollutant_name, pollutant_unit, site_locations):\n",
        "\n",
        "    # Merge with site coordinates\n",
        "    site_locations_reset = site_locations.reset_index()\n",
        "    df_siteyear_merged = pd.merge(\n",
        "        df_siteyear,\n",
        "        site_locations_reset[['Site Id', 'Latitude', 'Longitude']],\n",
        "        on='Site Id', how='inner'\n",
        "    )\n",
        "\n",
        "    # Clean data and define pollutant value range for color scaling\n",
        "    df_siteyear_merged.dropna(subset=['annual_pollutant', 'Latitude', 'Longitude'], inplace=True)\n",
        "    vmin, vmax = df_siteyear_merged['annual_pollutant'].min(), df_siteyear_merged['annual_pollutant'].max()\n",
        "\n",
        "    # Define custom color map (Green -> Yellow -> Red)\n",
        "    my_cmap = mcolors.LinearSegmentedColormap.from_list('colormap', ['green', 'yellow', 'red'])\n",
        "\n",
        "    # Function to plot map for a selected year\n",
        "    def plot_map_for_year(year):\n",
        "        \"\"\"Plot annual pollutant data for the given year.\"\"\"\n",
        "        df_year = df_siteyear_merged[df_siteyear_merged['Year'] == year]\n",
        "        plt.figure(figsize=(8, 8))\n",
        "\n",
        "        # Create Basemap focused on Atlanta\n",
        "        m = Basemap(projection='lcc', resolution='l', lat_0=BASEMAP_LAT, lon_0=BASEMAP_LON, width=4e5, height=4e5)\n",
        "        m.drawcoastlines(), m.drawcountries(), m.drawstates()\n",
        "\n",
        "        # Mark airport location with a star\n",
        "        x_airport, y_airport = m(AIRPORT_LON, AIRPORT_LAT)\n",
        "        m.plot(x_airport, y_airport, marker='*', color='black', markersize=14, label=f'{AIRPORT_CODE} Airport')\n",
        "\n",
        "        # Add a radius circle\n",
        "        m.tissot(AIRPORT_LON, AIRPORT_LAT, NEARBY_RADIUS / 111.0, 100, facecolor='none', edgecolor='red', linewidth=2, alpha=0.8)\n",
        "\n",
        "        # Plot pollutant levels for sites\n",
        "        x, y = m(df_year['Longitude'].values, df_year['Latitude'].values)\n",
        "        sc = m.scatter(x, y, c=df_year['annual_pollutant'], cmap=my_cmap, vmin=vmin, vmax=vmax, s=60, alpha=0.8, edgecolors='white', linewidths=0.5)\n",
        "\n",
        "        # Add colorbar and title\n",
        "        cbar = plt.colorbar(sc, orientation='vertical', shrink=0.7, pad=0.03)\n",
        "        cbar.set_label(f'Annual Average {pollutant_name} ({pollutant_unit})')\n",
        "        plt.title(f\"Annual {pollutant_name} in {CITY_NAME} Region - {year}\")\n",
        "        plt.legend(loc='lower left')\n",
        "        plt.show()\n",
        "\n",
        "    # Create interactive dropdown for year selection\n",
        "    all_years = sorted(df_siteyear_merged['Year'].unique())\n",
        "    interact(\n",
        "        plot_map_for_year,\n",
        "        year=widgets.Dropdown(options=all_years, value=all_years[0], description='Select Year:')\n",
        "    )"
      ]
    }
  ]
}