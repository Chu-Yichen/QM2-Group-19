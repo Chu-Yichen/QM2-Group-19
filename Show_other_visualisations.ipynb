{
  "nbformat": 4,
  "nbformat_minor": 0,
  "metadata": {
    "colab": {
      "provenance": [],
      "authorship_tag": "ABX9TyPVI5lMRHcNGmkwKxvXaWCW",
      "include_colab_link": true
    },
    "kernelspec": {
      "name": "python3",
      "display_name": "Python 3"
    },
    "language_info": {
      "name": "python"
    }
  },
  "cells": [
    {
      "cell_type": "markdown",
      "metadata": {
        "id": "view-in-github",
        "colab_type": "text"
      },
      "source": [
        "<a href=\"https://colab.research.google.com/github/Chu-Yichen/QM2-Group-19/blob/main/Show_other_visualisations.ipynb\" target=\"_parent\"><img src=\"https://colab.research.google.com/assets/colab-badge.svg\" alt=\"Open In Colab\"/></a>"
      ]
    },
    {
      "cell_type": "markdown",
      "source": [
        "# **Show other visualisations**"
      ],
      "metadata": {
        "id": "XFBdX1VUNaxC"
      }
    },
    {
      "cell_type": "code",
      "execution_count": null,
      "metadata": {
        "id": "qxdIb0FsNOMw"
      },
      "outputs": [],
      "source": [
        "def show_other_visualisations(df_nearby, df_all, pollutant_name, pollutant_unit):\n",
        "    # Calculate annual mean CO for nearby sites\n",
        "    df_nearby_annual = df_nearby.copy()\n",
        "    df_nearby_annual['Year'] = df_nearby_annual['Date Local'].dt.year\n",
        "    df_nearby_annual = (\n",
        "        df_nearby_annual.groupby('Year', as_index=False)['Arithmetic Mean']\n",
        "        .mean()\n",
        "        .rename(columns={'Arithmetic Mean': 'pollutant_annual_mean_nearby'})\n",
        "    )\n",
        "\n",
        "    # Calculate annual mean CO for all sites\n",
        "    df_all_annual = df_all.copy()\n",
        "    df_all_annual['Year'] = df_all_annual['Date Local'].dt.year\n",
        "    df_all_annual = (\n",
        "        df_all_annual.groupby('Year', as_index=False)['Arithmetic Mean']\n",
        "        .mean()\n",
        "        .rename(columns={'Arithmetic Mean': 'pollutant_annual_mean_all'})\n",
        "    )\n",
        "\n",
        "    df_nearby_annual = df_nearby_annual.loc[\n",
        "        (df_nearby_annual['Year'] >= START_YEAR) &\n",
        "        (df_nearby_annual['Year'] <= END_YEAR)\n",
        "    ]\n",
        "    df_all_annual = df_all_annual.loc[\n",
        "        (df_all_annual['Year'] >= START_YEAR) &\n",
        "        (df_all_annual['Year'] <= END_YEAR)\n",
        "    ]\n",
        "\n",
        "    # Prepare long-format data for visualization\n",
        "    df_nearby_long_annual = df_nearby_annual[['Year','pollutant_annual_mean_nearby']].rename(\n",
        "        columns={'pollutant_annual_mean_nearby':'pollutant_annual_mean'}\n",
        "    )\n",
        "    df_nearby_long_annual['Zone'] = 'Nearby'\n",
        "\n",
        "    df_all_long_annual = df_all_annual[['Year','pollutant_annual_mean_all']].rename(\n",
        "        columns={'pollutant_annual_mean_all':'pollutant_annual_mean'}\n",
        "    )\n",
        "    df_all_long_annual['Zone'] = 'Others'\n",
        "\n",
        "    # Combine nearby and all site data for visualization\n",
        "    df_annual_comparison = pd.concat([df_nearby_long_annual, df_all_long_annual], ignore_index=True)\n",
        "\n",
        "    # Create a box plot to compare annual mean pollutant distribution by zone\n",
        "    plt.figure(figsize=(8,6))\n",
        "    sns.boxplot(x='Zone', y='pollutant_annual_mean', data=df_annual_comparison)\n",
        "    plt.title(f'{pollutant_name} Distribution by Zone (Annual Mean)')\n",
        "    plt.ylabel(f'Annual Mean {pollutant_name} ({pollutant_unit})')\n",
        "    plt.show()\n",
        "\n",
        "    # Create a violin plot to compare annual mean pollutant distribution by zone\n",
        "    plt.figure(figsize=(8,6))\n",
        "    sns.violinplot(x='Zone', y='pollutant_annual_mean', data=df_annual_comparison)\n",
        "    plt.title(f'{pollutant_name} Distribution by Zone (Annual Mean) - Violin Plot')\n",
        "    plt.ylabel(f'Annual Mean {pollutant_name} ({pollutant_unit})')\n",
        "    plt.show()"
      ]
    }
  ]
}