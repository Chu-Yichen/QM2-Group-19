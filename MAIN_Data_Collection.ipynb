{
  "nbformat": 4,
  "nbformat_minor": 0,
  "metadata": {
    "colab": {
      "provenance": [],
      "authorship_tag": "ABX9TyPqZMH90sLe33MexaJmetXg",
      "include_colab_link": true
    },
    "kernelspec": {
      "name": "python3",
      "display_name": "Python 3"
    },
    "language_info": {
      "name": "python"
    }
  },
  "cells": [
    {
      "cell_type": "markdown",
      "metadata": {
        "id": "view-in-github",
        "colab_type": "text"
      },
      "source": [
        "<a href=\"https://colab.research.google.com/github/Chu-Yichen/QM2-Group-19/blob/main/MAIN_Data_Collection.ipynb\" target=\"_parent\"><img src=\"https://colab.research.google.com/assets/colab-badge.svg\" alt=\"Open In Colab\"/></a>"
      ]
    },
    {
      "cell_type": "markdown",
      "source": [
        "**Get Site IDs**"
      ],
      "metadata": {
        "id": "lQiWRrV1rX-p"
      }
    },
    {
      "cell_type": "code",
      "execution_count": 46,
      "metadata": {
        "colab": {
          "base_uri": "https://localhost:8080/"
        },
        "id": "18J89Qp1rq6C",
        "outputId": "0042974b-df08-4004-b335-b6b0ff9af7ed"
      },
      "outputs": [
        {
          "output_type": "stream",
          "name": "stdout",
          "text": [
            "Requirement already satisfied: haversine in /usr/local/lib/python3.10/dist-packages (2.9.0)\n"
          ]
        },
        {
          "output_type": "stream",
          "name": "stderr",
          "text": [
            "<ipython-input-46-30c77f7d9d53>:8: DtypeWarning: Columns (30) have mixed types. Specify dtype option on import or set low_memory=False.\n",
            "  monitors = pd.read_csv('https://aqs.epa.gov/aqsweb/airdata/aqs_monitors.zip', converters={'State Code': str, 'County Code': str, 'Site Number': str})\n"
          ]
        },
        {
          "output_type": "stream",
          "name": "stdout",
          "text": [
            "Monitors within 20 km of Atlanta Airport:\n",
            "{'13-121-0039', '13-089-0002', '13-063-0091', '13-121-0055'}\n",
            "\n",
            "All monitors within the specified counties and time range:\n",
            "{'13-247-0001', '13-067-0003', '13-135-0002', '13-097-0004', '13-151-0002'}\n"
          ]
        },
        {
          "output_type": "stream",
          "name": "stderr",
          "text": [
            "<ipython-input-46-30c77f7d9d53>:22: SettingWithCopyWarning: \n",
            "A value is trying to be set on a copy of a slice from a DataFrame.\n",
            "Try using .loc[row_indexer,col_indexer] = value instead\n",
            "\n",
            "See the caveats in the documentation: https://pandas.pydata.org/pandas-docs/stable/user_guide/indexing.html#returning-a-view-versus-a-copy\n",
            "  monitors['First Year of Data'] = pd.to_numeric(monitors['First Year of Data'], errors='coerce')\n",
            "<ipython-input-46-30c77f7d9d53>:23: SettingWithCopyWarning: \n",
            "A value is trying to be set on a copy of a slice from a DataFrame.\n",
            "Try using .loc[row_indexer,col_indexer] = value instead\n",
            "\n",
            "See the caveats in the documentation: https://pandas.pydata.org/pandas-docs/stable/user_guide/indexing.html#returning-a-view-versus-a-copy\n",
            "  monitors['Last Sample Date'] = pd.to_datetime(monitors['Last Sample Date'], errors='coerce')\n",
            "<ipython-input-46-30c77f7d9d53>:26: SettingWithCopyWarning: \n",
            "A value is trying to be set on a copy of a slice from a DataFrame.\n",
            "Try using .loc[row_indexer,col_indexer] = value instead\n",
            "\n",
            "See the caveats in the documentation: https://pandas.pydata.org/pandas-docs/stable/user_guide/indexing.html#returning-a-view-versus-a-copy\n",
            "  monitors['Last Year'] = monitors['Last Sample Date'].dt.year\n",
            "<ipython-input-46-30c77f7d9d53>:27: SettingWithCopyWarning: \n",
            "A value is trying to be set on a copy of a slice from a DataFrame.\n",
            "Try using .loc[row_indexer,col_indexer] = value instead\n",
            "\n",
            "See the caveats in the documentation: https://pandas.pydata.org/pandas-docs/stable/user_guide/indexing.html#returning-a-view-versus-a-copy\n",
            "  monitors['Fist Year'] = monitors['First Year of Data']\n"
          ]
        }
      ],
      "source": [
        "!pip install haversine\n",
        "import pandas as pd\n",
        "import numpy as np\n",
        "import math\n",
        "import haversine\n",
        "import requests\n",
        "\n",
        "monitors = pd.read_csv('https://aqs.epa.gov/aqsweb/airdata/aqs_monitors.zip', converters={'State Code': str, 'County Code': str, 'Site Number': str})\n",
        "monitors['Site Id'] = monitors['State Code'] + '-' + monitors['County Code'] + '-' + monitors['Site Number']\n",
        "# Creates a unique ID for each site\n",
        "monitors = monitors[monitors['Parameter Code'].isin([81102, 88101, 44201, 42401, 42101, 42602])]\n",
        "\"\"\"\n",
        "Extracting monitors that contain our desired pollutants (PM10, PM2.5, Ozone, SO2, NO2, CO)\n",
        "Ozone (O3 - ppm): 44201\n",
        "PM2.5 (µg/m3): 88101\n",
        "PM10 (µg/m3): 81102\n",
        "CO (ppm): 42101\n",
        "SO2 (ppb): 42401\n",
        "NO2 (ppb): 42602\n",
        "\"\"\"\n",
        "\n",
        "monitors['First Year of Data'] = pd.to_numeric(monitors['First Year of Data'], errors='coerce')\n",
        "monitors['Last Sample Date'] = pd.to_datetime(monitors['Last Sample Date'], errors='coerce')\n",
        "\n",
        "# Extract the 'year' part of the Last Sample Date column\n",
        "monitors['Last Year'] = monitors['Last Sample Date'].dt.year\n",
        "monitors['Fist Year'] = monitors['First Year of Data']\n",
        "\n",
        "\n",
        "\"\"\"\n",
        "Counties in the Atlanta region (with their FIPS codes): https://atlantaregional.org/about-arc/about-the-atlanta-region/\n",
        "\n",
        "Cherokee: 057\n",
        "Clayton: 063\n",
        "Cobb: 067\n",
        "DeKalb: 089\n",
        "Douglas: 097\n",
        "Fayette: 113\n",
        "Forsyth: 117\n",
        "Fulton: 121\n",
        "Gwinnett: 135\n",
        "Henry: 151\n",
        "Rockdale: 247\n",
        "\"\"\"\n",
        "\n",
        "# Filter the monitors, only leave those with 6 pollutants data available from 1999 to 2024.\n",
        "atl_counties = ['057','063','067','089','097','113','117','121','135','151','247']\n",
        "monitors = monitors[(monitors['State Code'] == '13') & (monitors['County Code'].isin(atl_counties)) &\n",
        "                    ((monitors['First Year of Data']) <= 1999) & ((monitors['Last Year']) >= 2024)]\n",
        "\n",
        "site_locations = monitors[['Site Id', 'Latitude', 'Longitude']]\n",
        "# Filter the dataframe by Site ID and co-ordinates\n",
        "site_locations = site_locations.drop_duplicates()\n",
        "site_locations = site_locations.dropna()\n",
        "# Creates unique rows for each site and removes any sites that do not contain Latitudes and Longitudes\n",
        "site_locations = site_locations.set_index('Site Id')\n",
        "\n",
        "def get_site_distances_km(site_locations, lat, lng):\n",
        "    site_distances = {}\n",
        "    for site_id, site_row in site_locations.iterrows():\n",
        "        site_distances[site_id] = haversine.haversine((lat, lng), (site_row['Latitude'], site_row['Longitude']))\n",
        "    return site_distances\n",
        "# A function that finds the distance between inputted co-ordinates and each site. This returns a dictionary of site number and distance.\n",
        "\n",
        "distances = get_site_distances_km(site_locations, 33.6324, -84.4333)\n",
        "# Co-ordinates for Hartsfield-Jackson Atlanta International Airport into our function.\n",
        "\n",
        "nearby_site_ids = [site_id for site_id, distance in distances.items() if distance < 20]\n",
        "# This retrieves all of the site IDs within a 20km radius from the airport.\n",
        "all_site_ids = set(site_locations.index.tolist()) - set(nearby_site_ids)\n",
        "# All eligible sites in Atlanta, excluding those within a 20km radius.\n",
        "\n",
        "# Print the results\n",
        "print(\"Monitors within 20 km of Atlanta Airport:\")\n",
        "print(set(nearby_site_ids))\n",
        "\n",
        "print(\"\\nAll monitors within the specified counties and time range:\")\n",
        "print(set(all_site_ids))"
      ]
    },
    {
      "cell_type": "markdown",
      "source": [],
      "metadata": {
        "id": "d7ArgqQmrWzr"
      }
    }
  ]
}