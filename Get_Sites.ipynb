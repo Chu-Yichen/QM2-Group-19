{
  "nbformat": 4,
  "nbformat_minor": 0,
  "metadata": {
    "colab": {
      "provenance": [],
      "authorship_tag": "ABX9TyMR3CEcvmjiiI532/rMOAfE",
      "include_colab_link": true
    },
    "kernelspec": {
      "name": "python3",
      "display_name": "Python 3"
    },
    "language_info": {
      "name": "python"
    }
  },
  "cells": [
    {
      "cell_type": "markdown",
      "metadata": {
        "id": "view-in-github",
        "colab_type": "text"
      },
      "source": [
        "<a href=\"https://colab.research.google.com/github/Chu-Yichen/QM2-Group-19/blob/main/Get_Sites.ipynb\" target=\"_parent\"><img src=\"https://colab.research.google.com/assets/colab-badge.svg\" alt=\"Open In Colab\"/></a>"
      ]
    },
    {
      "cell_type": "code",
      "execution_count": 15,
      "metadata": {
        "colab": {
          "base_uri": "https://localhost:8080/"
        },
        "id": "xqjN9nTO6Rxi",
        "outputId": "9d6d7541-a967-48af-fff4-7774b61e90a3"
      },
      "outputs": [
        {
          "output_type": "stream",
          "name": "stdout",
          "text": [
            "Requirement already satisfied: geopy in /usr/local/lib/python3.10/dist-packages (2.4.1)\n",
            "Requirement already satisfied: requests in /usr/local/lib/python3.10/dist-packages (2.32.3)\n",
            "Requirement already satisfied: pandas in /usr/local/lib/python3.10/dist-packages (2.2.2)\n",
            "Requirement already satisfied: unzip in /usr/local/lib/python3.10/dist-packages (1.0.0)\n",
            "Requirement already satisfied: geographiclib<3,>=1.52 in /usr/local/lib/python3.10/dist-packages (from geopy) (2.0)\n",
            "Requirement already satisfied: charset-normalizer<4,>=2 in /usr/local/lib/python3.10/dist-packages (from requests) (3.4.0)\n",
            "Requirement already satisfied: idna<4,>=2.5 in /usr/local/lib/python3.10/dist-packages (from requests) (3.10)\n",
            "Requirement already satisfied: urllib3<3,>=1.21.1 in /usr/local/lib/python3.10/dist-packages (from requests) (2.2.3)\n",
            "Requirement already satisfied: certifi>=2017.4.17 in /usr/local/lib/python3.10/dist-packages (from requests) (2024.12.14)\n",
            "Requirement already satisfied: numpy>=1.22.4 in /usr/local/lib/python3.10/dist-packages (from pandas) (1.26.4)\n",
            "Requirement already satisfied: python-dateutil>=2.8.2 in /usr/local/lib/python3.10/dist-packages (from pandas) (2.8.2)\n",
            "Requirement already satisfied: pytz>=2020.1 in /usr/local/lib/python3.10/dist-packages (from pandas) (2024.2)\n",
            "Requirement already satisfied: tzdata>=2022.7 in /usr/local/lib/python3.10/dist-packages (from pandas) (2024.2)\n",
            "Requirement already satisfied: six>=1.5 in /usr/local/lib/python3.10/dist-packages (from python-dateutil>=2.8.2->pandas) (1.17.0)\n"
          ]
        },
        {
          "output_type": "stream",
          "name": "stderr",
          "text": [
            "<ipython-input-15-3478d9c7a902>:22: DtypeWarning: Columns (0,30) have mixed types. Specify dtype option on import or set low_memory=False.\n",
            "  df = pd.read_csv(file_name)\n",
            "<ipython-input-15-3478d9c7a902>:31: SettingWithCopyWarning: \n",
            "A value is trying to be set on a copy of a slice from a DataFrame.\n",
            "Try using .loc[row_indexer,col_indexer] = value instead\n",
            "\n",
            "See the caveats in the documentation: https://pandas.pydata.org/pandas-docs/stable/user_guide/indexing.html#returning-a-view-versus-a-copy\n",
            "  df_ga['county_code_str'] = df_ga['County Code'].astype(str).str.zfill(3)\n"
          ]
        },
        {
          "output_type": "stream",
          "name": "stdout",
          "text": [
            "Monitors within 20 km of Atlanta Airport:\n",
            "      State Code  County Code  Site Number   Latitude  Longitude  distance_km\n",
            "84006         13           63            1  33.603201 -84.390195     5.423162\n",
            "84007         13           63            1  33.603201 -84.390195     5.423162\n",
            "84008         13           63           91  33.610845 -84.390717     4.768752\n",
            "84009         13           63           91  33.610845 -84.390717     4.768752\n",
            "84010         13           63           91  33.610845 -84.390717     4.768752\n",
            "...          ...          ...          ...        ...        ...          ...\n",
            "86315         13          121         5002  33.699552 -84.447151     6.772319\n",
            "86316         13          121         5002  33.699552 -84.447151     6.772319\n",
            "86317         13          121         5002  33.699552 -84.447151     6.772319\n",
            "86318         13          121         5002  33.699552 -84.447151     6.772319\n",
            "86319         13          121         5002  33.699552 -84.447151     6.772319\n",
            "\n",
            "[1415 rows x 6 columns]\n",
            "\n",
            "Monitors between 20 km and 30 km of Atlanta Airport:\n",
            "      State Code  County Code  Site Number   Latitude  Longitude  distance_km\n",
            "84047         13           67         1001  33.883437 -84.515488    28.125438\n",
            "84048         13           67         1001  33.883437 -84.515488    28.125438\n",
            "84351         13           89            1  33.786252 -84.279914    21.172957\n",
            "84352         13           89            1  33.786252 -84.279914    21.172957\n",
            "85184         13           89         1002  33.789272 -84.235754    24.251082\n",
            "85185         13           89         1002  33.789272 -84.235754    24.251082\n",
            "85411         13           97            2  33.743997 -84.632712    22.194032\n",
            "85432         13          113            1  33.455739 -84.418998    20.530723\n",
            "85433         13          113            1  33.455739 -84.418998    20.530723\n",
            "85434         13          113            1  33.455739 -84.418998    20.530723\n",
            "85963         13          121           32  33.819564 -84.389708    20.149168\n",
            "85964         13          121           32  33.819564 -84.389708    20.149168\n",
            "85965         13          121           32  33.819564 -84.389708    20.149168\n",
            "85966         13          121           32  33.819564 -84.389708    20.149168\n",
            "85967         13          121           32  33.819564 -84.389708    20.149168\n",
            "85968         13          121           32  33.819564 -84.389708    20.149168\n",
            "85969         13          121           32  33.819564 -84.389708    20.149168\n",
            "85970         13          121           32  33.819564 -84.389708    20.149168\n",
            "85971         13          121           32  33.819564 -84.389708    20.149168\n",
            "85972         13          121           32  33.819564 -84.389708    20.149168\n",
            "85973         13          121           32  33.819564 -84.389708    20.149168\n",
            "85974         13          121           32  33.819564 -84.389708    20.149168\n",
            "85975         13          121           32  33.819564 -84.389708    20.149168\n",
            "85976         13          121           32  33.819564 -84.389708    20.149168\n",
            "85977         13          121           32  33.819564 -84.389708    20.149168\n",
            "85978         13          121           32  33.819564 -84.389708    20.149168\n",
            "85979         13          121           32  33.819564 -84.389708    20.149168\n",
            "85980         13          121           32  33.819564 -84.389708    20.149168\n",
            "85981         13          121           32  33.819564 -84.389708    20.149168\n",
            "85982         13          121           32  33.819564 -84.389708    20.149168\n",
            "85983         13          121           32  33.819564 -84.389708    20.149168\n",
            "85984         13          121           32  33.819564 -84.389708    20.149168\n",
            "85985         13          121           32  33.819564 -84.389708    20.149168\n",
            "85986         13          121           32  33.819564 -84.389708    20.149168\n",
            "85987         13          121           32  33.819564 -84.389708    20.149168\n",
            "86089         13          121           42  33.822605 -84.452707    20.309117\n",
            "86090         13          121           42  33.822605 -84.452707    20.309117\n",
            "86091         13          121           42  33.822605 -84.452707    20.309117\n",
            "86092         13          121           42  33.822605 -84.452707    20.309117\n",
            "86093         13          121           42  33.822605 -84.452707    20.309117\n",
            "86095         13          121           44  33.838437 -84.368815    22.601120\n",
            "86292         13          121           99  33.876469 -84.380327    26.516765\n"
          ]
        },
        {
          "output_type": "stream",
          "name": "stderr",
          "text": [
            "<ipython-input-15-3478d9c7a902>:44: SettingWithCopyWarning: \n",
            "A value is trying to be set on a copy of a slice from a DataFrame.\n",
            "Try using .loc[row_indexer,col_indexer] = value instead\n",
            "\n",
            "See the caveats in the documentation: https://pandas.pydata.org/pandas-docs/stable/user_guide/indexing.html#returning-a-view-versus-a-copy\n",
            "  df_atl['distance_km'] = df_atl.apply(lambda row: distance_from_airport(row['Latitude'], row['Longitude']), axis=1)\n"
          ]
        }
      ],
      "source": [
        "from IPython import get_ipython\n",
        "from IPython.display import display\n",
        "# %%\n",
        "!pip install geopy requests pandas unzip\n",
        "\n",
        "import pandas as pd\n",
        "from geopy.distance import geodesic\n",
        "import requests, zipfile, io\n",
        "\n",
        "# URL to the zip file\n",
        "zip_url = \"https://aqs.epa.gov/aqsweb/airdata/aqs_monitors.zip\"\n",
        "\n",
        "# Download and extract the zip file\n",
        "r = requests.get(zip_url)\n",
        "z = zipfile.ZipFile(io.BytesIO(r.content))\n",
        "\n",
        "# The main monitor file is typically named 'aqs_monitors.csv'\n",
        "file_name = 'aqs_monitors.csv'\n",
        "z.extract(file_name)\n",
        "\n",
        "# Load the data into a pandas DataFrame\n",
        "df = pd.read_csv(file_name)\n",
        "\n",
        "# The state code for Georgia is 13\n",
        "df_ga = df[df['State Code'] == 13]\n",
        "\n",
        "# County codes of interest in the Atlanta region\n",
        "atl_counties = ['057','063','067','089','097','113','117','121','135','151','247']\n",
        "\n",
        "# Convert the county codes in df_ga to zero-padded strings to match the format\n",
        "df_ga['county_code_str'] = df_ga['County Code'].astype(str).str.zfill(3)\n",
        "\n",
        "# Filter by the counties of interest\n",
        "df_atl = df_ga[df_ga['county_code_str'].isin(atl_counties)]\n",
        "\n",
        "# Coordinates of Atlanta Airport (Hartsfield–Jackson): (latitude, longitude)\n",
        "atl_airport_coords = (33.6407, -84.4277)\n",
        "\n",
        "# Define a function to calculate distance in km using geodesic\n",
        "def distance_from_airport(lat, lon):\n",
        "    return geodesic((lat, lon), atl_airport_coords).kilometers\n",
        "\n",
        "# Calculate the distance of each monitor from the airport\n",
        "df_atl['distance_km'] = df_atl.apply(lambda row: distance_from_airport(row['Latitude'], row['Longitude']), axis=1)\n",
        "\n",
        "# Filter monitors within 20 km\n",
        "within_20km = df_atl[df_atl['distance_km'] <= 20]\n",
        "\n",
        "# Filter monitors within 30 km (but more than 20 km, if you want separate listings)\n",
        "within_30km = df_atl[(df_atl['distance_km'] <= 30) & (df_atl['distance_km'] > 20)]\n",
        "\n",
        "# Print the results\n",
        "print(\"Monitors within 20 km of Atlanta Airport:\")\n",
        "print(within_20km[['State Code','County Code','Site Number','Latitude','Longitude','distance_km']])\n",
        "\n",
        "print(\"\\nMonitors between 20 km and 30 km of Atlanta Airport:\")\n",
        "print(within_30km[['State Code','County Code','Site Number','Latitude','Longitude','distance_km']])\n"
      ]
    }
  ]
}