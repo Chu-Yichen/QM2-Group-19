{
  "nbformat": 4,
  "nbformat_minor": 0,
  "metadata": {
    "colab": {
      "provenance": [],
      "authorship_tag": "ABX9TyO1X+JGdYAjZRayVDUAZ3bt",
      "include_colab_link": true
    },
    "kernelspec": {
      "name": "python3",
      "display_name": "Python 3"
    },
    "language_info": {
      "name": "python"
    }
  },
  "cells": [
    {
      "cell_type": "markdown",
      "metadata": {
        "id": "view-in-github",
        "colab_type": "text"
      },
      "source": [
        "<a href=\"https://colab.research.google.com/github/Chu-Yichen/QM2-Group-19/blob/main/Correlation_proximity_analysis.ipynb\" target=\"_parent\"><img src=\"https://colab.research.google.com/assets/colab-badge.svg\" alt=\"Open In Colab\"/></a>"
      ]
    },
    {
      "cell_type": "markdown",
      "source": [
        "# **Correlation proximity analysis**\n",
        "\n"
      ],
      "metadata": {
        "id": "csZ_jLR0OfGk"
      }
    },
    {
      "cell_type": "code",
      "execution_count": null,
      "metadata": {
        "id": "4TwV7DGOOd_L"
      },
      "outputs": [],
      "source": [
        "def correlation_proximity_analysis(df_siteyear, pollutant_name, pollutant_unit, distances):\n",
        "    \"\"\"\n",
        "\n",
        "    Analyze the relationship between distance and pollutant concentration at the site level.\n",
        "\n",
        "    Instruction:\n",
        "    you can first calculate the pollutant concentration for a specific year (or multi-year average),\n",
        "    and then perform a correlation analysis with the site distances.\n",
        "    \"\"\"\n",
        "    num_years = (END_YEAR - START_YEAR)\n",
        "\n",
        "    # (1) Calculate the average pollutant for each site for the date range.\n",
        "    #   You can adjust this to other time periods or focus only on one specific year.\n",
        "    df_yr = df_siteyear[(df_siteyear['Year'] >= START_YEAR) & (df_siteyear['Year'] <= END_YEAR)]\n",
        "    df_yr_avg = df_yr.groupby('Site Id', as_index=False)['annual_pollutant'].mean().rename(columns={'annual_pollutant': 'pollutant_yr_mean'})\n",
        "\n",
        "    # (2) Merge with distance information\n",
        "    dist_df = pd.DataFrame(list(distances.items()), columns=['Site Id', 'distance_km'])\n",
        "    df_yr_merged = pd.merge(df_yr_avg, dist_df, on='Site Id', how='inner')\n",
        "\n",
        "    # (3) Perform correlation analysis\n",
        "    pearson_corr, pearson_pval = pearsonr(df_yr_merged['distance_km'], df_yr_merged['pollutant_yr_mean'])\n",
        "    spearman_corr, spearman_pval = spearmanr(df_yr_merged['distance_km'], df_yr_merged['pollutant_yr_mean'])\n",
        "\n",
        "    print(f\"Pearson correlation coefficient between {num_years}-year average {pollutant_name} and distance ({START_YEAR}-{END_YEAR}): {pearson_corr:.4f}, p-value: {pearson_pval:.4g}\")\n",
        "    print(f\"Spearman correlation coefficient between {num_years}-year average {pollutant_name} and distance ({START_YEAR}-{END_YEAR}): {spearman_corr:.4f}, p-value: {spearman_pval:.4g}\")\n",
        "\n",
        "    # Visualize scatter plot\n",
        "    plt.figure(figsize=(6,4))\n",
        "    sns.scatterplot(x='distance_km', y='pollutant_yr_mean', data=df_yr_merged, alpha=0.7)\n",
        "    plt.xlabel('Distance from Airport (km)')\n",
        "    plt.ylabel(f'Average {pollutant_name} ({pollutant_unit})')\n",
        "    plt.title(f'{pollutant_name} concentration vs. Distance ({START_YEAR}-{END_YEAR})')\n",
        "    plt.show()"
      ]
    }
  ]
}