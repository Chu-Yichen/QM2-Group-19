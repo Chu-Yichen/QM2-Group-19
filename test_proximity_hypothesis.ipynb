{
  "nbformat": 4,
  "nbformat_minor": 0,
  "metadata": {
    "colab": {
      "provenance": [],
      "authorship_tag": "ABX9TyMw0/oGKgrgX4SDTgkuU6XZ",
      "include_colab_link": true
    },
    "kernelspec": {
      "name": "python3",
      "display_name": "Python 3"
    },
    "language_info": {
      "name": "python"
    }
  },
  "cells": [
    {
      "cell_type": "markdown",
      "metadata": {
        "id": "view-in-github",
        "colab_type": "text"
      },
      "source": [
        "<a href=\"https://colab.research.google.com/github/Chu-Yichen/QM2-Group-19/blob/main/test_proximity_hypothesis.ipynb\" target=\"_parent\"><img src=\"https://colab.research.google.com/assets/colab-badge.svg\" alt=\"Open In Colab\"/></a>"
      ]
    },
    {
      "cell_type": "markdown",
      "source": [
        "# **Test proximity hypothesis**"
      ],
      "metadata": {
        "id": "rRFA8bnIPaON"
      }
    },
    {
      "cell_type": "code",
      "execution_count": null,
      "metadata": {
        "id": "8Msuu2ZjPZE-"
      },
      "outputs": [],
      "source": [
        "def test_proximity_hypothesis(df_plot_daily_hypothesis_testing, pollutant_name):\n",
        "    # Hypothesis 1: Near vs. Far (Paired t-test)\n",
        "    \"\"\"\n",
        "    H0: The mean daily pollutant concentration is the same for nearby and far sites.\n",
        "    H1: The mean daily pollutant concentration is different for the two groups.\n",
        "    (Using paired t-test, because each Date corresponds to a paired measurement:\n",
        "    one from near sites, one from far sites, on the same day.)\n",
        "    \"\"\"\n",
        "\n",
        "    print(f\"[Hypothesis 1] Paired t-test: near vs. far, daily {pollutant_name} from {START_YEAR} to {END_YEAR}\")\n",
        "\n",
        "    if len(df_plot_daily_hypothesis_testing) < 2: # Check if we have enough data available\n",
        "        print(\"Not enough daily paired records to perform t-test.\")\n",
        "    else:\n",
        "        # Prepare a DataFrame to display the pollutant values for nearby and far sites\n",
        "\n",
        "        # print(\"Comparison of pollutant values:\\n\") (uncomment if you want to see the comparison)\n",
        "        comparison_df = pd.DataFrame({\n",
        "            'Date': df_plot_daily_hypothesis_testing['Date Local'],\n",
        "            f'Nearby {pollutant_name}': df_plot_daily_hypothesis_testing['pollutant_mean_nearby'],\n",
        "            f'Far {pollutant_name}': df_plot_daily_hypothesis_testing['pollutant_mean_all']\n",
        "        })\n",
        "        # print(comparison_df.to_string(index=False))\n",
        "        # uncomment if you want to see all the daily data comparison\n",
        "\n",
        "\n",
        "        # Perform the paired t-test on the CO values\n",
        "        t_stat, p_val = ttest_rel(\n",
        "            df_plot_daily_hypothesis_testing['pollutant_mean_nearby'],\n",
        "            df_plot_daily_hypothesis_testing['pollutant_mean_all']\n",
        "        )\n",
        "        print(f\"\\nT-statistic = {t_stat:.4f}, p-value = {p_val:.4g}\")\n",
        "        if p_val < 0.05: # Significant difference found, identify which group has higher mean pollutant level\n",
        "            print(f\"=> Reject H0: There is a significant difference between {pollutant_name} concentration near and far from the airport.\")\n",
        "            if df_plot_daily_hypothesis_testing['pollutant_mean_nearby'].mean() > df_plot_daily_hypothesis_testing['pollutant_mean_all'].mean():\n",
        "                print(f\"=> Nearby sites have higher daily {pollutant_name} on average.\")\n",
        "            else:\n",
        "                print(f\"=> Far sites have higher daily {pollutant_name} on average.\")\n",
        "        else:\n",
        "            print(f\"=> Fail to reject H0: No significant difference was found.\")"
      ]
    }
  ]
}