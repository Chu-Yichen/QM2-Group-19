{
  "nbformat": 4,
  "nbformat_minor": 0,
  "metadata": {
    "colab": {
      "provenance": [],
      "authorship_tag": "ABX9TyNcnXwCq1dhyUXRsA4drjdz",
      "include_colab_link": true
    },
    "kernelspec": {
      "name": "python3",
      "display_name": "Python 3"
    },
    "language_info": {
      "name": "python"
    }
  },
  "cells": [
    {
      "cell_type": "markdown",
      "metadata": {
        "id": "view-in-github",
        "colab_type": "text"
      },
      "source": [
        "<a href=\"https://colab.research.google.com/github/Chu-Yichen/QM2-Group-19/blob/main/test_policy_hypothesis.ipynb\" target=\"_parent\"><img src=\"https://colab.research.google.com/assets/colab-badge.svg\" alt=\"Open In Colab\"/></a>"
      ]
    },
    {
      "cell_type": "markdown",
      "source": [
        "# **Test policy hypothesis**"
      ],
      "metadata": {
        "id": "Rsc9i1WOP7qG"
      }
    },
    {
      "cell_type": "code",
      "execution_count": null,
      "metadata": {
        "id": "9-rXdtozPvRW"
      },
      "outputs": [],
      "source": [
        "def test_policy_hypothesis(df_plot_daily_hypothesis_testing, pollutant_name, policy_year):\n",
        "    \"\"\"\n",
        "    Assume that Year=2010 is the dividing line for policy implementation.\n",
        "    Here, 'pollutant_mean_nearby' is used as an example with an independent samples t-test (Welch’s t-test),\n",
        "    because 'a certain day in 2009' and 'a certain day in 2010' are not paired observations; they are two independent groups.\n",
        "\n",
        "    H0: The mean daily pollutant (nearby) is the same before and after the policy.\n",
        "    H1: The mean daily pollutant (nearby) is different before and after the policy.\n",
        "    \"\"\"\n",
        "\n",
        "    print(f\"[Hypothesis 2] Policy effectiveness: before vs. after {policy_year} (nearby sites)\")\n",
        "\n",
        "    # Split the data into two groups: before and after the policy implementation year\n",
        "    before_policy = df_plot_daily_hypothesis_testing.loc[df_plot_daily_hypothesis_testing['Year'] < policy_year, 'pollutant_mean_nearby']\n",
        "    after_policy  = df_plot_daily_hypothesis_testing.loc[df_plot_daily_hypothesis_testing['Year'] >= policy_year, 'pollutant_mean_nearby']\n",
        "\n",
        "    # Perform Welch's t-test to compare the two groups\n",
        "    t_stat2, p_val2 = ttest_ind(before_policy, after_policy, equal_var=False)  # Welch’s t-test\n",
        "\n",
        "    # Output the test results\n",
        "    print(f\"T-statistic = {t_stat2:.4f}, p-value = {p_val2:.4g}\")\n",
        "    if p_val2 < 0.05:\n",
        "        # Significant difference found\n",
        "        print(f\"=> Reject H0: There is a significant difference in near-site {pollutant_name} before vs. after {policy_year}.\")\n",
        "        if after_policy.mean() < before_policy.mean(): # Evaluate policy effectiveness\n",
        "            print(\"=> Policy to reduce emissions is effective: emissions significantly decreased after implementation.\")\n",
        "        else:\n",
        "            print(\"=> Policy had an adverse effect: emissions significantly increased after implementation.\")\n",
        "    else:\n",
        "        # No significant difference found\n",
        "        print(\"=> Fail to reject H0: No significant difference was found.\")"
      ]
    }
  ]
}