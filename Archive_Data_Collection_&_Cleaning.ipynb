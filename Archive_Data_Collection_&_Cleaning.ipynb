{
  "nbformat": 4,
  "nbformat_minor": 0,
  "metadata": {
    "colab": {
      "provenance": [],
      "gpuType": "T4",
      "authorship_tag": "ABX9TyMKIGw7bPhP9q0EPC5t06LA",
      "include_colab_link": true
    },
    "kernelspec": {
      "name": "python3",
      "display_name": "Python 3"
    },
    "language_info": {
      "name": "python"
    },
    "accelerator": "GPU"
  },
  "cells": [
    {
      "cell_type": "markdown",
      "metadata": {
        "id": "view-in-github",
        "colab_type": "text"
      },
      "source": [
        "<a href=\"https://colab.research.google.com/github/Chu-Yichen/QM2-Group-19/blob/main/Data_Collection_%26_Cleaning.ipynb\" target=\"_parent\"><img src=\"https://colab.research.google.com/assets/colab-badge.svg\" alt=\"Open In Colab\"/></a>"
      ]
    },
    {
      "cell_type": "markdown",
      "source": [
        "**Set up and downloading the data**"
      ],
      "metadata": {
        "id": "ElQhYIJNknNM"
      }
    },
    {
      "cell_type": "code",
      "source": [
        "!pip install requests --quiet\n",
        "\n",
        "import os\n",
        "import math\n",
        "import requests\n",
        "import zipfile\n",
        "import pandas as pd\n",
        "\n",
        "# Pollutants of interest with their parameter codes:\n",
        "# Ozone (O3 - ppm): 44201\n",
        "# PM2.5 (µg/m3): 88101\n",
        "# PM10 (µg/m3): 81102\n",
        "# CO (ppm): 42101\n",
        "# SO2 (ppb): 42401\n",
        "# NO2 (ppb): 42602\n",
        "\n",
        "pollutants = {\n",
        "    \"O3\": 44201,\n",
        "    \"PM2.5\": 88101,\n",
        "    \"PM10\": 81102,\n",
        "    \"CO\": 42101,\n",
        "    \"SO2\": 42401,\n",
        "    \"NO2\": 42602\n",
        "}\n",
        "\n",
        "years = range(1999, 2025)  # The range of years for which data will be downloaded, aligns with the literature review\n",
        "\n",
        "# Directory to store the downloaded data\n",
        "data_dir = \"epa_data\"\n",
        "os.makedirs(data_dir, exist_ok=True)\n",
        "base_url = \"https://aqs.epa.gov/aqsweb/airdata\"\n",
        "\n",
        "# Download and unzip data files for all pollutants and years\n",
        "for param_name, param_code in pollutants.items():\n",
        "    for year in years: # Iterate over pollutants and years\n",
        "        zip_filename = f\"daily_{param_code}_{year}.zip\" #Construct the filename for the zipped data\n",
        "        url = f\"{base_url}/{zip_filename}\" # Full URL to the file\n",
        "        local_zip_path = os.path.join(data_dir, zip_filename)# Local path\n",
        "\n",
        "        if not os.path.isfile(local_zip_path):\n",
        "            r = requests.get(url)\n",
        "            if r.status_code == 200:\n",
        "                with open(local_zip_path, 'wb') as f:\n",
        "                    f.write(r.content)\n",
        "                # Unzip the downloaded file into the data directory\n",
        "                with zipfile.ZipFile(local_zip_path, 'r') as zip_ref:\n",
        "                    zip_ref.extractall(data_dir)\n",
        "            else:\n",
        "                # If file doesn't exist for a given year/pollutant, skip\n",
        "                print(f\"File not found: {zip_filename}\")\n",
        "        else:\n",
        "            # Unzip if not already done\n",
        "            csv_filename = f\"daily_{param_code}_{year}.csv\"\n",
        "            if not os.path.isfile(os.path.join(data_dir, csv_filename)):\n",
        "                with zipfile.ZipFile(local_zip_path, 'r') as zip_ref:\n",
        "                    zip_ref.extractall(data_dir)\n"
      ],
      "metadata": {
        "id": "OyB8O02ejZ9x"
      },
      "execution_count": 1,
      "outputs": []
    },
    {
      "cell_type": "markdown",
      "source": [
        "**Identify Sites Near Atlanta Airport (<20km) and Extract Their Info**"
      ],
      "metadata": {
        "id": "LApiYeUUjbT5"
      }
    },
    {
      "cell_type": "code",
      "source": [
        "# Load all CSV files and combine into a single DataFrame\n",
        "all_csv_files = [f for f in os.listdir(data_dir) if f.endswith('.csv')]\n",
        "\n",
        "# List to store individual DataFrames\n",
        "df_list = []\n",
        "for csv_file in all_csv_files:\n",
        "    csv_path = os.path.join(data_dir, csv_file)\n",
        "    # Use low_memory=False to avoid potential DtypeWarnings for large files\n",
        "    temp_df = pd.read_csv(csv_path, low_memory=False)\n",
        "    df_list.append(temp_df)\n",
        "\n",
        "if len(df_list) == 0:\n",
        "    # Raise an error if no data files are found\n",
        "    raise ValueError(\"No data files found. Please check that data is available.\")\n",
        "\n",
        "# Combine all DataFrames into one\n",
        "combined_df = pd.concat(df_list, ignore_index=True)\n",
        "\n",
        "# Ensure the date column is properly parsed\n",
        "if \"Date Local\" not in combined_df.columns:\n",
        "    # Raise an error if the expected column is missing\n",
        "    raise ValueError(\"Could not find 'Date Local' column in the data.\")\n",
        "combined_df[\"Date Local\"] = pd.to_datetime(combined_df[\"Date Local\"], errors='coerce')\n",
        "\n",
        "# Drop rows without valid dates\n",
        "combined_df = combined_df.dropna(subset=[\"Date Local\"])\n",
        "\n",
        "# Coordinates of the Altlanta International Airport (used for proximity calculations)\n",
        "airport_lat, airport_lon = 33.6407, -84.4277\n",
        "\n",
        "# Function to calculate Haversine distance between two coordinates\n",
        "def haversine_distance(lat1, lon1, lat2, lon2):\n",
        "    R = 6371  # Earth's radius in kilometers\n",
        "    dLat = math.radians(lat2 - lat1)\n",
        "    dLon = math.radians(lon2 - lon1)\n",
        "    a = math.sin(dLat / 2)**2 + math.cos(math.radians(lat1)) * math.cos(math.radians(lat2)) * math.sin(dLon / 2)**2\n",
        "    c = 2 * math.atan2(math.sqrt(a), math.sqrt(1 - a))\n",
        "    return R * c\n",
        "\n",
        "# Check for latitude and longitude columns\n",
        "if \"Latitude\" not in combined_df.columns or \"Longitude\" not in combined_df.columns:\n",
        "    raise ValueError(\"No 'Latitude' or 'Longitude' columns found.\")\n",
        "\n",
        "# Identify unique monitoring sites\n",
        "site_cols = [\"State Code\", \"County Code\", \"Site Num\", \"Latitude\", \"Longitude\"]\n",
        "unique_sites = combined_df[site_cols].drop_duplicates()\n",
        "\n",
        "# Calculate the distance of each site from the airport\n",
        "unique_sites[\"distance_km\"] = unique_sites.apply(\n",
        "    lambda row: haversine_distance(airport_lat, airport_lon, row['Latitude'], row['Longitude']), axis=1\n",
        ")\n",
        "\n",
        "# Filter sites within a 20 km radius of the airport\n",
        "nearby_sites = unique_sites[unique_sites['distance_km'] < 20].copy()\n",
        "\n",
        "# Display the results\n",
        "print(\"Nearby sites found (<20 km):\")\n",
        "print(nearby_sites)\n"
      ],
      "metadata": {
        "id": "YLqUwpUSjbqo"
      },
      "execution_count": null,
      "outputs": []
    },
    {
      "cell_type": "markdown",
      "source": [
        "**Check Data Availability for These Sites**"
      ],
      "metadata": {
        "id": "9JJ0ZaE0jfRi"
      }
    },
    {
      "cell_type": "code",
      "source": [
        "# Merge site information back to the combined DataFrame to include only nearby sites\n",
        "key_cols = [\"State Code\", \"County Code\", \"Site Num\"]\n",
        "nearby_keys = nearby_sites[key_cols].drop_duplicates()\n",
        "\n",
        "# Perform an inner join to filter the combined data to include only nearby sites\n",
        "merged = pd.merge(combined_df, nearby_keys, on=key_cols, how='inner')\n",
        "\n",
        "# Add a 'Year' column for convenience in grouping data\n",
        "merged[\"Year\"] = merged[\"Date Local\"].dt.year\n",
        "\n",
        "# Group data by site, parameter, and year to calculate the number of observations\n",
        "availability = (merged\n",
        "                .groupby([\"State Code\", \"County Code\", \"Site Num\", \"Parameter Code\", \"Year\"])[\"Sample Measurement\"]\n",
        "                .count()\n",
        "                .reset_index(name=\"Observations\"))\n",
        "\n",
        "\n"
      ],
      "metadata": {
        "id": "tQjUaqhyjfsR"
      },
      "execution_count": null,
      "outputs": []
    },
    {
      "cell_type": "markdown",
      "source": [
        "**Retrieve and Print Out the Final Filtered Data**"
      ],
      "metadata": {
        "id": "LgdYPF1cjkcT"
      }
    },
    {
      "cell_type": "code",
      "source": [
        "# Filter by date range\n",
        "start_date = pd.to_datetime(\"1999-01-01\")\n",
        "end_date = pd.to_datetime(\"2024-12-31\")\n",
        "\n",
        "# Filter data to include only rows within the specified date range\n",
        "filtered = merged[(merged[\"Date Local\"] >= start_date) & (merged[\"Date Local\"] <= end_date)].copy()\n",
        "\n",
        "# Define a truncate function to truncate values to a specified number of decimal places\n",
        "def truncate(value, decimals=0):\n",
        "    # Truncate instead of rounding to match technical requirements\n",
        "    if pd.isna(value):\n",
        "        return value\n",
        "    factor = 10**decimals\n",
        "    return math.floor(value * factor) / factor\n",
        "\n",
        "# Mapping of parameter codes to truncation logic\n",
        "param_truncation = {\n",
        "    44201: (\"O3\", lambda x: truncate(x, 3)),   # O3 ppm -> 3 decimals\n",
        "    88101: (\"PM2.5\", lambda x: truncate(x, 1)),# PM2.5 µg/m3 -> 1 decimal\n",
        "    81102: (\"PM10\", lambda x: truncate(x, 0)), # PM10 µg/m3 -> integer\n",
        "    42101: (\"CO\", lambda x: truncate(x, 1)),   # CO ppm -> 1 decimal\n",
        "    42401: (\"SO2\", lambda x: truncate(x, 0)),  # SO2 ppb -> integer\n",
        "    42602: (\"NO2\", lambda x: truncate(x, 0))   # NO2 ppb -> integer\n",
        "}\n",
        "\n",
        "# Add parameter names and apply truncation to measurements\n",
        "filtered[\"Parameter Name\"] = filtered[\"Parameter Code\"].map(lambda pc: param_truncation[pc][0] if pc in param_truncation else \"Unknown\")\n",
        "filtered[\"Truncated Measurement\"] = filtered.apply(\n",
        "    lambda row: param_truncation[row[\"Parameter Code\"]][1](row[\"Sample Measurement\"]) if row[\"Parameter Code\"] in param_truncation else row[\"Sample Measurement\"],\n",
        "    axis=1\n",
        ")\n",
        "\n",
        "# Select and display relevant columns for final output\n",
        "final_df = filtered[[\n",
        "    \"Date Local\",\n",
        "    \"State Code\",\n",
        "    \"County Code\",\n",
        "    \"Site Num\",\n",
        "    \"Parameter Code\",\n",
        "    \"Parameter Name\",\n",
        "    \"Latitude\",\n",
        "    \"Longitude\",\n",
        "    \"Sample Measurement\",\n",
        "    \"Truncated Measurement\"\n",
        "]].copy()\n",
        "\n",
        "# Display the final filtered data\n",
        "print(\"Final filtered data:\")\n",
        "print(final_df.head())\n"
      ],
      "metadata": {
        "id": "145bX_o0jlnD"
      },
      "execution_count": null,
      "outputs": []
    }
  ]
}
